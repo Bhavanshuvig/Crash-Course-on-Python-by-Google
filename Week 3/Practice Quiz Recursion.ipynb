{
 "cells": [
  {
   "cell_type": "markdown",
   "metadata": {},
   "source": [
    "# Practice Quiz: Recursion\n"
   ]
  },
  {
   "cell_type": "code",
   "execution_count": 1,
   "metadata": {},
   "outputs": [
    {
     "name": "stdout",
     "output_type": "stream",
     "text": [
      "Automating with Python is fun!\n"
     ]
    }
   ],
   "source": [
    "\"\"\"\n",
    "3.Question 3\n",
    "Fill in the blanks to make the is_power_of function return whether the \n",
    "number is a power of the given base. Note: base is assumed to be a positive number. \n",
    "Tip: for functions that return a boolean value, you can return the result of a comparison.\n",
    "\n",
    "\"\"\"\n",
    "\n",
    "def is_power_of(number, base):\n",
    "  # Base case: when number is smaller than base.\n",
    "  if (number < base) and (number==1):\n",
    "    # If number is equal to 1, it's a power (base**0).\n",
    "    return True\n",
    "  elif (number == 0):\n",
    "    return False\n",
    "  else:\n",
    "    number = number / base\n",
    "  # Recursive case: keep dividing number by base.\n",
    "  return is_power_of(number, base)\n",
    "\n",
    "print(is_power_of(8,2)) # Should be True\n",
    "print(is_power_of(64,4)) # Should be True\n",
    "print(is_power_of(70,10)) # Should be False"
   ]
  },
  {
   "cell_type": "code",
   "execution_count": 2,
   "metadata": {},
   "outputs": [
    {
     "name": "stdout",
     "output_type": "stream",
     "text": [
      "Yellow is the color of sunshine\n"
     ]
    }
   ],
   "source": [
    "\"\"\"\n",
    "4.Question 4\n",
    "The count_users function recursively counts the amount of users that belong to a group in the company system, \n",
    "by going through each of the members of a group and if one of them is a group, recursively calling the function \n",
    "and counting the members. \n",
    "But it has a bug! Can you spot the problem and fix it?\n",
    "\n",
    "\"\"\"\n",
    "def count_users(group):\n",
    "  count = 0\n",
    "  for member in get_members(group):\n",
    "    if is_group(member):\n",
    "      count += count_users(member)\n",
    "    else:\n",
    "        count += 1\n",
    "  return count\n",
    "\n",
    "print(count_users(\"sales\")) # Should be 3\n",
    "print(count_users(\"engineering\")) # Should be 8\n",
    "print(count_users(\"everyone\")) # Should be 18\n",
    "\n"
   ]
  },
  {
   "cell_type": "code",
   "execution_count": 3,
   "metadata": {},
   "outputs": [
    {
     "name": "stdout",
     "output_type": "stream",
     "text": [
      "False\n",
      "True\n"
     ]
    }
   ],
   "source": [
    "\"\"\"\n",
    "5.Question 5\n",
    "Implement the sum_positive_numbers function, as a recursive function that returns \n",
    "the sum of all positive numbers between the number n received and 1. For example, when n is 3 it should return 1+2+3=6, \n",
    "and when n is 5 it should return 1+2+3+4+5=15.\n",
    "\n",
    "\"\"\"\n",
    "\n",
    "def sum_positive_numbers(n): \n",
    "    if n <= 1: \n",
    "        return n \n",
    "    return n + sum_positive_numbers(n - 1) \n",
    "    \n",
    "    \n",
    "print(sum_positive_numbers(3)) # Should be 6\n",
    "print(sum_positive_numbers(5)) # Should be 15"
   ]
  },
  {
   "cell_type": "code",
   "execution_count": null,
   "metadata": {},
   "outputs": [],
   "source": []
  }
 ],
 "metadata": {
  "kernelspec": {
   "display_name": "Python 3",
   "language": "python",
   "name": "python3"
  },
  "language_info": {
   "codemirror_mode": {
    "name": "ipython",
    "version": 3
   },
   "file_extension": ".py",
   "mimetype": "text/x-python",
   "name": "python",
   "nbconvert_exporter": "python",
   "pygments_lexer": "ipython3",
   "version": "3.6.5"
  }
 },
 "nbformat": 4,
 "nbformat_minor": 2
}
