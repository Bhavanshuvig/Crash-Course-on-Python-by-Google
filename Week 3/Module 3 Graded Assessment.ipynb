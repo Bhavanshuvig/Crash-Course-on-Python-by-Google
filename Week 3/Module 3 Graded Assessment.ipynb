{
 "cells": [
  {
   "cell_type": "markdown",
   "metadata": {},
   "source": [
    "# Module 3 Graded Assessment\n"
   ]
  },
  {
   "cell_type": "code",
   "execution_count": 1,
   "metadata": {},
   "outputs": [
    {
     "name": "stdout",
     "output_type": "stream",
     "text": [
      "Automating with Python is fun!\n"
     ]
    }
   ],
   "source": [
    "\"\"\"\n",
    "1.Question 1\n",
    "Fill in the blanks of this code to print out the numbers 1 through 7.\n",
    "\n",
    "\"\"\"\n",
    "number = 1\n",
    "while number <= 7:\n",
    "\tprint(number, end=\" \")\n",
    "\tnumber +=1"
   ]
  },
  {
   "cell_type": "code",
   "execution_count": 2,
   "metadata": {},
   "outputs": [
    {
     "name": "stdout",
     "output_type": "stream",
     "text": [
      "Yellow is the color of sunshine\n"
     ]
    }
   ],
   "source": [
    "\"\"\"\n",
    "2.Question 2\n",
    "The show_letters function should print out each letter of a word on a separate line. \n",
    "Fill in the blanks to make that happen.\n",
    "\n",
    "\"\"\"\n",
    "def show_letters(word):\n",
    "\tfor letter in word:\n",
    "\t\tprint(letter)\n",
    "\n",
    "show_letters(\"Hello\")\n",
    "# Should print one line per letter"
   ]
  },
  {
   "cell_type": "code",
   "execution_count": 3,
   "metadata": {},
   "outputs": [
    {
     "name": "stdout",
     "output_type": "stream",
     "text": [
      "False\n",
      "True\n"
     ]
    }
   ],
   "source": [
    "\"\"\"\n",
    "3.Question 3\n",
    "Complete the function digits(n) that returns how many digits the number has. \n",
    "For example: 25 has 2 digits and 144 has 3 digits. Tip: you can figure out the digits of a number by dividing \n",
    "it by 10 once per digit until there are no digits left.\n",
    "\n",
    "\"\"\"\n",
    "\n",
    "def digits(n):\n",
    "    count = str(n)\n",
    "    return len(count)\n",
    "    \t\n",
    "print(digits(25))   # Should print 2\n",
    "print(digits(144))  # Should print 3\n",
    "print(digits(1000)) # Should print 4\n",
    "print(digits(0))    # Should print 1"
   ]
  },
  {
   "cell_type": "code",
   "execution_count": 4,
   "metadata": {},
   "outputs": [
    {
     "name": "stdout",
     "output_type": "stream",
     "text": [
      "1 2 3 \n",
      "2 4 6 \n",
      "3 6 9 \n"
     ]
    }
   ],
   "source": [
    "\"\"\"\n",
    "4.Question 4\n",
    "This function prints out a multiplication table (where each number is the result of multiplying the first number of its row by the number at the top of its column). Fill in the blanks so that calling multiplication_table(1, 3) will print out:\n",
    "\n",
    "1 2 3\n",
    "\n",
    "2 4 6\n",
    "\n",
    "3 6 9\n",
    "\n",
    "\"\"\"\n",
    "\n",
    "def multiplication_table(start, stop):\n",
    "\tfor x in range(start,stop+1):\n",
    "\t\tfor y in range(start,stop+1):\n",
    "\t\t\tprint(str(x*y), end=\" \")\n",
    "\t\tprint()\n",
    "\n",
    "multiplication_table(1, 3)\n",
    "# Should print the multiplication table shown above"
   ]
  },
  {
   "cell_type": "code",
   "execution_count": null,
   "metadata": {},
   "outputs": [],
   "source": [
    "\"\"\"\n",
    "5.Question 5\n",
    "The counter function counts down from start to stop when start is bigger than stop, \n",
    "and counts up from start to stop otherwise. \n",
    "Fill in the blanks to make this work correctly.\n",
    "\"\"\"\n",
    "def counter(start, stop):\n",
    "\tx = start\n",
    "\tif x>stop:\n",
    "\t\treturn_string = \"Counting down: \"\n",
    "\t\twhile x >= stop:\n",
    "\t\t\treturn_string += str(x)\n",
    "\t\t\tif x>stop:\n",
    "\t\t\t\treturn_string += \",\"\n",
    "\t\t\tx = x-1\n",
    "\telse:\n",
    "\t\treturn_string = \"Counting up: \"\n",
    "\t\twhile x <= stop:\n",
    "\t\t\treturn_string += str(x)\n",
    "\t\t\tif x<stop:\n",
    "\t\t\t\treturn_string += \",\"\n",
    "\t\t\tx = x+1\n",
    "\treturn return_string\n",
    "\n",
    "print(counter(1, 10)) # Should be \"Counting up: 1,2,3,4,5,6,7,8,9,10\"\n",
    "print(counter(2, 1)) # Should be \"Counting down: 2,1\"\n",
    "print(counter(5, 5)) # Should be \"Counting up: 5\""
   ]
  },
  {
   "cell_type": "code",
   "execution_count": null,
   "metadata": {},
   "outputs": [],
   "source": [
    "\"\"\"\n",
    "6.Question 6\n",
    "The loop function is similar to range(), but handles the parameters somewhat differently: it takes in 3 parameters: \n",
    "the starting point, the stopping point, and the increment step. When the starting point is greater \n",
    "than the stopping point, it forces the steps to be negative. When, instead, the starting point is less \n",
    "than the stopping point, it forces the step to be positive. Also, if the step is 0, it changes to 1 or -1. \n",
    "The result is returned as a one-line, space-separated string of numbers. For example, loop(11,2,3) \n",
    "should return 11 8 5 and loop(1,5,0) should return 1 2 3 4. Fill in the missing parts to make that happen.\n",
    "\"\"\"\n",
    "\n",
    "def loop(start, stop, step):\n",
    "\treturn_string = \"\"\n",
    "\tif step == 0:\n",
    "\t  step=1\n",
    "\tif start>stop:\n",
    "\t\tstep = abs(step) * -1\n",
    "\telse:\n",
    "\t\tstep = abs(step)\n",
    "\tfor count in range(start, stop, step):\n",
    "\t\treturn_string += str(count) + \" \"\n",
    "\treturn return_string.strip()\n",
    "\n",
    "print(loop(11,2,3)) # Should be 11 8 5\n",
    "print(loop(1,5,0)) # Should be 1 2 3 4\n",
    "print(loop(-1,-2,0)) # Should be -1\n",
    "print(loop(10,25,-2)) # Should be 10 12 14 16 18 20 22 24 \n",
    "print(loop(1,1,1)) # Should be empty"
   ]
  },
  {
   "cell_type": "code",
   "execution_count": null,
   "metadata": {},
   "outputs": [],
   "source": [
    "#8.Question 8\n",
    "#What is the value of x at the end of the following code?\n",
    "for x in range(1, 10, 3):\n",
    "    print(x)\n",
    "    \n",
    "#7    \n"
   ]
  },
  {
   "cell_type": "code",
   "execution_count": null,
   "metadata": {},
   "outputs": [],
   "source": [
    "#9.Question 9\n",
    "#What is the value of y at the end of the following code?\n",
    "\n",
    "for x in range(10):\n",
    "    for y in range(x):\n",
    "        print(y)\n",
    "        \n",
    "#8        \n"
   ]
  }
 ],
 "metadata": {
  "kernelspec": {
   "display_name": "Python 3",
   "language": "python",
   "name": "python3"
  },
  "language_info": {
   "codemirror_mode": {
    "name": "ipython",
    "version": 3
   },
   "file_extension": ".py",
   "mimetype": "text/x-python",
   "name": "python",
   "nbconvert_exporter": "python",
   "pygments_lexer": "ipython3",
   "version": "3.6.5"
  }
 },
 "nbformat": 4,
 "nbformat_minor": 2
}
