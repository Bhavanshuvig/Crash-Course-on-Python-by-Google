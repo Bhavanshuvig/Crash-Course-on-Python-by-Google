{
 "cells": [
  {
   "cell_type": "markdown",
   "metadata": {},
   "source": [
    "# Practice Quiz: While Loops\n"
   ]
  },
  {
   "cell_type": "code",
   "execution_count": 1,
   "metadata": {},
   "outputs": [
    {
     "name": "stdout",
     "output_type": "stream",
     "text": [
      "Automating with Python is fun!\n"
     ]
    }
   ],
   "source": [
    "\"\"\"\n",
    "2.Question 2\n",
    "Fill in the blanks to make the print_prime_factors function print all the prime factors of a number. \n",
    "A prime factor is a number that is prime and divides another without a remainder.\n",
    "\n",
    "\"\"\"\n",
    "def print_prime_factors(number):\n",
    "  # Start with two, which is the first prime\n",
    "  factor = 2\n",
    "  # Keep going until the factor is larger than the number\n",
    "  while factor <= number:\n",
    "    # Check if factor is a divisor of number\n",
    "    if number % factor == 0:\n",
    "      # If it is, print it and divide the original number\n",
    "      print(factor)\n",
    "      number = number / factor\n",
    "    else:\n",
    "      # If it's not, increment the factor by one\n",
    "      factor +=1\n",
    "  return \"Done\"\n",
    "\n",
    "print_prime_factors(100)\n",
    "# Should print 2,2,5,5\n",
    "# DO NOT DELETE THIS COMMENT"
   ]
  },
  {
   "cell_type": "code",
   "execution_count": 2,
   "metadata": {},
   "outputs": [
    {
     "name": "stdout",
     "output_type": "stream",
     "text": [
      "Yellow is the color of sunshine\n"
     ]
    }
   ],
   "source": [
    "\"\"\"\n",
    "4.Question 4\n",
    "Fill in the empty function so that it returns the sum of all the divisors of a number, without including it. \n",
    "A divisor is a number that divides into another without a remainder.\n",
    "\n",
    "\"\"\"\n",
    "import math \n",
    "      \n",
    "# Function to calculate sum of all proper \n",
    "# divisors num --> given natural number \n",
    "def sum_divisors(num) : \n",
    "      \n",
    "    # Final result of summation of divisors \n",
    "   if num == 0:\n",
    "        return 0\n",
    "   else: \n",
    "    result = 0\n",
    "      \n",
    "    # find all divisors which divides 'num' \n",
    "    i = 2\n",
    "    while i<= (math.sqrt(num)) : \n",
    "        \n",
    "        # if 'i' is divisor of 'num' \n",
    "        if (num % i == 0) : \n",
    "        \n",
    "            # if both divisors are same then \n",
    "            # add it only once else add both \n",
    "            if (i == (num / i)) : \n",
    "                result = result + i; \n",
    "            else : \n",
    "                result = result +  (i + num/i); \n",
    "        i = i + 1\n",
    "          \n",
    "    # Add 1 to the result as 1 is also  \n",
    "    # a divisor\n",
    "    hell = int(result + 1)\n",
    "    return (hell)\n",
    "\n",
    "print(sum_divisors(0))\n",
    "# 0\n",
    "print(sum_divisors(3)) # Should sum of 1\n",
    "# 1\n",
    "print(sum_divisors(36)) # Should sum of 1+2+3+4+6+9+12+18\n",
    "# 55\n",
    "print(sum_divisors(102)) # Should be sum of 2+3+6+17+34+51\n",
    "# 114\n"
   ]
  },
  {
   "cell_type": "code",
   "execution_count": 3,
   "metadata": {},
   "outputs": [
    {
     "name": "stdout",
     "output_type": "stream",
     "text": [
      "False\n",
      "True\n"
     ]
    }
   ],
   "source": [
    "\"\"\"\n",
    "5.Question 5\n",
    "The multiplication_table function prints the results of a number passed to it multiplied by 1 through 5. \n",
    "An additional requirement is that the result is not to exceed 25, which is done with the break statement. \n",
    "Fill in the blanks to complete the function to satisfy these conditions.\n",
    "\n",
    "\"\"\"\n",
    "\n",
    "def multiplication_table(number):\n",
    "\t# Initialize the starting point of the multiplication table\n",
    "\tmultiplier = 1\n",
    "\t# Only want to loop through 5\n",
    "\twhile multiplier <= 5:\n",
    "\t\tresult = number*multiplier \n",
    "\t\t# What is the additional condition to exit out of the loop?\n",
    "\t\tif result>25 :\n",
    "\t\t\tbreak\n",
    "\t\tprint(str(number) + \"x\" + str(multiplier) + \"=\" + str(result))\n",
    "\t\t# Increment the variable for the loop\n",
    "\t\tmultiplier += 1\n",
    "\n",
    "multiplication_table(3) \n",
    "# Should print: 3x1=3 3x2=6 3x3=9 3x4=12 3x5=15\n",
    "\n",
    "multiplication_table(5) \n",
    "# Should print: 5x1=5 5x2=10 5x3=15 5x4=20 5x5=25\n",
    "\n",
    "multiplication_table(8)\t\n",
    "# Should print: 8x1=8 8x2=16 8x3=24\n"
   ]
  },
  {
   "cell_type": "code",
   "execution_count": null,
   "metadata": {},
   "outputs": [],
   "source": []
  }
 ],
 "metadata": {
  "kernelspec": {
   "display_name": "Python 3",
   "language": "python",
   "name": "python3"
  },
  "language_info": {
   "codemirror_mode": {
    "name": "ipython",
    "version": 3
   },
   "file_extension": ".py",
   "mimetype": "text/x-python",
   "name": "python",
   "nbconvert_exporter": "python",
   "pygments_lexer": "ipython3",
   "version": "3.6.5"
  }
 },
 "nbformat": 4,
 "nbformat_minor": 2
}
