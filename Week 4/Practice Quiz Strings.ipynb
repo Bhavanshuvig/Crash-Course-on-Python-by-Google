{
 "cells": [
  {
   "cell_type": "markdown",
   "metadata": {},
   "source": [
    "# Practice Quiz: Strings\n"
   ]
  },
  {
   "cell_type": "code",
   "execution_count": 1,
   "metadata": {},
   "outputs": [
    {
     "name": "stdout",
     "output_type": "stream",
     "text": [
      "Automating with Python is fun!\n"
     ]
    }
   ],
   "source": [
    "\"\"\"\n",
    "1.Question 1\n",
    "The is_palindrome function checks if a string is a palindrome. A palindrome is a string that can \n",
    "be equally read from left to right or right to left, omitting blank spaces, and ignoring capitalization. \n",
    "Examples of palindromes are words like kayak and radar, and phrases like \"Never Odd or Even\". \n",
    "Fill in the blanks in this function to return True if the passed \n",
    "string is a palindrome, False if not.\n",
    "\n",
    "\"\"\"\n",
    "def is_palindrome(input_string):\n",
    "    new_string = input_string.split()\n",
    "    new_string = \"\".join(new_string).lower()\n",
    "    reverse_string = new_string[::-1]    \n",
    "    \n",
    "    if new_string == reverse_string:\n",
    "        return True\n",
    "    else:\n",
    "        return False\n",
    "\n",
    "\n",
    "print(is_palindrome(\"Never Odd or Even\")) # Should be True\n",
    "print(is_palindrome(\"abc\")) # Should be False\n",
    "print(is_palindrome(\"kayak\")) # Should be True"
   ]
  },
  {
   "cell_type": "code",
   "execution_count": 2,
   "metadata": {},
   "outputs": [
    {
     "name": "stdout",
     "output_type": "stream",
     "text": [
      "Yellow is the color of sunshine\n"
     ]
    }
   ],
   "source": [
    "\"\"\"\n",
    "2.Question 2\n",
    "Using the format method, fill in the gaps in the convert_distance function so that it returns \n",
    "the phrase \"X miles equals Y km\", with Y having only 1 decimal place. For example, convert_distance(12) \n",
    "should return \"12 miles equals 19.2 km\".\n",
    "\"\"\"\n",
    "def convert_distance(miles):\n",
    "\tkm = miles * 1.6 \n",
    "\tresult = \"{} miles equals {:.1f} km\".format(miles,km)\n",
    "\treturn result\n",
    "\n",
    "print(convert_distance(12)) # Should be: 12 miles equals 19.2 km\n",
    "print(convert_distance(5.5)) # Should be: 5.5 miles equals 8.8 km\n",
    "print(convert_distance(11)) # Should be: 11 miles equals 17.6 km"
   ]
  },
  {
   "cell_type": "code",
   "execution_count": 3,
   "metadata": {},
   "outputs": [
    {
     "name": "stdout",
     "output_type": "stream",
     "text": [
      "False\n",
      "True\n"
     ]
    }
   ],
   "source": [
    "\"\"\"\n",
    "4.Question 4\n",
    "Fill in the gaps in the nametag function so that it uses the format method to return first_name and the \n",
    "first initial of last_name followed by a period. \n",
    "For example, nametag(\"Jane\", \"Smith\") should return \"Jane S.\"\n",
    "\"\"\"\n",
    "\n",
    "\"\"\"Fill in the gaps in the nametag function so that it uses the format method to return first_name \n",
    "and the first initial of last_name followed by a period. For example, nametag(\"Jane\", \"Smith\") should return \"Jane S.\"\n",
    "\"\"\"\n",
    "\n",
    "def nametag(first_name, last_name):\n",
    "\treturn(\"{} {[0]}.\".format(first_name,last_name))\n",
    "\n",
    "print(nametag(\"Jane\", \"Smith\")) \n",
    "# Should display \"Jane S.\" \n",
    "print(nametag(\"Francesco\", \"Rinaldi\")) \n",
    "# Should display \"Francesco R.\" \n",
    "print(nametag(\"Jean-Luc\", \"Grand-Pierre\")) \n",
    "# Should display \"Jean-Luc G.\" "
   ]
  },
  {
   "cell_type": "code",
   "execution_count": 4,
   "metadata": {},
   "outputs": [
    {
     "name": "stdout",
     "output_type": "stream",
     "text": [
      "1 2 3 \n",
      "2 4 6 \n",
      "3 6 9 \n"
     ]
    }
   ],
   "source": []
  },
  {
   "cell_type": "code",
   "execution_count": null,
   "metadata": {},
   "outputs": [],
   "source": []
  },
  {
   "cell_type": "code",
   "execution_count": null,
   "metadata": {},
   "outputs": [],
   "source": []
  },
  {
   "cell_type": "code",
   "execution_count": null,
   "metadata": {},
   "outputs": [],
   "source": []
  },
  {
   "cell_type": "code",
   "execution_count": null,
   "metadata": {},
   "outputs": [],
   "source": []
  }
 ],
 "metadata": {
  "kernelspec": {
   "display_name": "Python 3",
   "language": "python",
   "name": "python3"
  },
  "language_info": {
   "codemirror_mode": {
    "name": "ipython",
    "version": 3
   },
   "file_extension": ".py",
   "mimetype": "text/x-python",
   "name": "python",
   "nbconvert_exporter": "python",
   "pygments_lexer": "ipython3",
   "version": "3.6.5"
  }
 },
 "nbformat": 4,
 "nbformat_minor": 2
}
